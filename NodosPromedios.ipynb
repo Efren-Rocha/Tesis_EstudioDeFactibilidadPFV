{
 "cells": [
  {
   "cell_type": "code",
   "execution_count": 1,
   "id": "1482f5c7-6093-46bc-8f6f-30c4c931d8be",
   "metadata": {},
   "outputs": [],
   "source": [
    "#Importar librerias.\n",
    "import pandas as pd\n",
    "import matplotlib.pyplot as plt\n",
    "import numpy as np\n",
    "import seaborn as sns"
   ]
  },
  {
   "cell_type": "code",
   "execution_count": 2,
   "id": "422a1da1-a44d-41aa-9c2f-d1c8cc721981",
   "metadata": {},
   "outputs": [
    {
     "data": {
      "text/html": [
       "<div>\n",
       "<style scoped>\n",
       "    .dataframe tbody tr th:only-of-type {\n",
       "        vertical-align: middle;\n",
       "    }\n",
       "\n",
       "    .dataframe tbody tr th {\n",
       "        vertical-align: top;\n",
       "    }\n",
       "\n",
       "    .dataframe thead th {\n",
       "        text-align: right;\n",
       "    }\n",
       "</style>\n",
       "<table border=\"1\" class=\"dataframe\">\n",
       "  <thead>\n",
       "    <tr style=\"text-align: right;\">\n",
       "      <th></th>\n",
       "      <th>Fecha</th>\n",
       "      <th>Hora</th>\n",
       "      <th>Precio marginal local ($/MWh)</th>\n",
       "    </tr>\n",
       "  </thead>\n",
       "  <tbody>\n",
       "    <tr>\n",
       "      <th>0</th>\n",
       "      <td>01/04/2017</td>\n",
       "      <td>1.0</td>\n",
       "      <td>1519.48</td>\n",
       "    </tr>\n",
       "    <tr>\n",
       "      <th>1</th>\n",
       "      <td>01/04/2017</td>\n",
       "      <td>2.0</td>\n",
       "      <td>1419.61</td>\n",
       "    </tr>\n",
       "    <tr>\n",
       "      <th>2</th>\n",
       "      <td>01/04/2017</td>\n",
       "      <td>3.0</td>\n",
       "      <td>992.41</td>\n",
       "    </tr>\n",
       "    <tr>\n",
       "      <th>3</th>\n",
       "      <td>01/04/2017</td>\n",
       "      <td>4.0</td>\n",
       "      <td>961.41</td>\n",
       "    </tr>\n",
       "    <tr>\n",
       "      <th>4</th>\n",
       "      <td>01/04/2017</td>\n",
       "      <td>5.0</td>\n",
       "      <td>945.04</td>\n",
       "    </tr>\n",
       "    <tr>\n",
       "      <th>...</th>\n",
       "      <td>...</td>\n",
       "      <td>...</td>\n",
       "      <td>...</td>\n",
       "    </tr>\n",
       "    <tr>\n",
       "      <th>68626</th>\n",
       "      <td>30/09/2024</td>\n",
       "      <td>20.0</td>\n",
       "      <td>525.30</td>\n",
       "    </tr>\n",
       "    <tr>\n",
       "      <th>68627</th>\n",
       "      <td>30/09/2024</td>\n",
       "      <td>21.0</td>\n",
       "      <td>516.92</td>\n",
       "    </tr>\n",
       "    <tr>\n",
       "      <th>68628</th>\n",
       "      <td>30/09/2024</td>\n",
       "      <td>22.0</td>\n",
       "      <td>515.25</td>\n",
       "    </tr>\n",
       "    <tr>\n",
       "      <th>68629</th>\n",
       "      <td>30/09/2024</td>\n",
       "      <td>23.0</td>\n",
       "      <td>514.44</td>\n",
       "    </tr>\n",
       "    <tr>\n",
       "      <th>68630</th>\n",
       "      <td>30/09/2024</td>\n",
       "      <td>24.0</td>\n",
       "      <td>499.83</td>\n",
       "    </tr>\n",
       "  </tbody>\n",
       "</table>\n",
       "<p>68631 rows × 3 columns</p>\n",
       "</div>"
      ],
      "text/plain": [
       "            Fecha  Hora  Precio marginal local ($/MWh)\n",
       "0      01/04/2017   1.0                        1519.48\n",
       "1      01/04/2017   2.0                        1419.61\n",
       "2      01/04/2017   3.0                         992.41\n",
       "3      01/04/2017   4.0                         961.41\n",
       "4      01/04/2017   5.0                         945.04\n",
       "...           ...   ...                            ...\n",
       "68626  30/09/2024  20.0                         525.30\n",
       "68627  30/09/2024  21.0                         516.92\n",
       "68628  30/09/2024  22.0                         515.25\n",
       "68629  30/09/2024  23.0                         514.44\n",
       "68630  30/09/2024  24.0                         499.83\n",
       "\n",
       "[68631 rows x 3 columns]"
      ]
     },
     "execution_count": 2,
     "metadata": {},
     "output_type": "execute_result"
    }
   ],
   "source": [
    "#Cargar los datos obtenidos de NodosP provenientes del Centro Nacional de Control de Energía. \n",
    "df=pd.read_csv(\"/home/jovyan/Tesis/NodoF_csv.csv\")\n",
    "df"
   ]
  },
  {
   "cell_type": "code",
   "execution_count": 3,
   "id": "d17dac24-eaa1-42ef-a732-3369b5b9fe87",
   "metadata": {},
   "outputs": [],
   "source": [
    "#Transformar la fecha a caracteres válidos para su lectura en pandas.\n",
    "df['Fecha'] = pd.to_datetime(df['Fecha'], format=\"%d/%m/%Y\")"
   ]
  },
  {
   "cell_type": "code",
   "execution_count": 4,
   "id": "330b6330-6613-42bf-afae-979147d91008",
   "metadata": {},
   "outputs": [],
   "source": [
    "#Organizar la base de datos por fecha y de manera ascendente y eliminar las columnas con datos inválidos.\n",
    "df2 = df.sort_values(by=\"Fecha\")\n",
    "df2 = df2.dropna()"
   ]
  },
  {
   "cell_type": "code",
   "execution_count": 5,
   "id": "643e57bb-2e2f-4bfb-96a5-b381885a421c",
   "metadata": {},
   "outputs": [],
   "source": [
    "#Convertir la columna de \"Fecha\" en el índice y posteriormente eliminar la columna Date.\n",
    "df2.index=df2.Fecha\n",
    "df2=df2.drop('Fecha',axis=1)"
   ]
  },
  {
   "cell_type": "code",
   "execution_count": 6,
   "id": "8fb9ce43-458d-4621-bcbc-33e9f69261dc",
   "metadata": {},
   "outputs": [],
   "source": [
    "#Seleccionar los datos ubicados en el periodo de interés.\n",
    "df2= df2[(df2[\"Hora\"] >= 7) & (df2[\"Hora\"] <= 18)]"
   ]
  },
  {
   "cell_type": "code",
   "execution_count": 7,
   "id": "87b2241b-ab90-4567-849e-5f515136ed99",
   "metadata": {},
   "outputs": [],
   "source": [
    "#Generar slices para cada mes de todos los años.\n",
    "df_ene=df2.loc[df2.index.month==1]\n",
    "df_feb=df2.loc[df2.index.month==2]\n",
    "df_mar=df2.loc[df2.index.month==3]\n",
    "df_abr=df2.loc[df2.index.month==4]\n",
    "df_may=df2.loc[df2.index.month==5]\n",
    "df_jun=df2.loc[df2.index.month==6]\n",
    "df_jul=df2.loc[df2.index.month==7]\n",
    "df_ago=df2.loc[df2.index.month==8]\n",
    "df_sep=df2.loc[df2.index.month==9]\n",
    "df_oct=df2.loc[df2.index.month==10]\n",
    "df_nov=df2.loc[df2.index.month==11]\n",
    "df_dic=df2.loc[df2.index.month==12]"
   ]
  },
  {
   "cell_type": "code",
   "execution_count": 8,
   "id": "5efc5d2c-8740-4a19-aa65-2f6fb7eda376",
   "metadata": {},
   "outputs": [],
   "source": [
    "#De los slices anteriores, seleccionar únicamente los valores de la columna \"Precio marginal local ($/MWh) por mes. \n",
    "ene=np.array(df_ene.iloc[:,1])\n",
    "feb=np.array(df_feb.iloc[:,1])\n",
    "mar=np.array(df_mar.iloc[:,1])\n",
    "abr=np.array(df_abr.iloc[:,1])\n",
    "may=np.array(df_may.iloc[:,1])\n",
    "jun=np.array(df_jun.iloc[:,1])\n",
    "jul=np.array(df_jul.iloc[:,1])\n",
    "ago=np.array(df_ago.iloc[:,1])\n",
    "sep=np.array(df_sep.iloc[:,1])\n",
    "oct=np.array(df_oct.iloc[:,1])\n",
    "nov=np.array(df_nov.iloc[:,1])\n",
    "dic=np.array(df_dic.iloc[:,1])"
   ]
  },
  {
   "cell_type": "code",
   "execution_count": 9,
   "id": "81970004-96e6-48fa-ac88-f640beee820a",
   "metadata": {},
   "outputs": [],
   "source": [
    "#Obtener los cuantiles de cada mes por separado.\n",
    "q1ene = np.quantile(ene[ene > 0], 0.25)\n",
    "q2ene = np.quantile(ene[ene > 0], 0.5)\n",
    "q3ene = np.quantile(ene[ene > 0], 0.75)\n",
    "\n",
    "q1feb = np.quantile(feb[feb > 0], 0.25)\n",
    "q2feb = np.quantile(feb[feb > 0], 0.5)\n",
    "q3feb = np.quantile(feb[feb > 0], 0.75)\n",
    "\n",
    "q1mar = np.quantile(mar[mar > 0], 0.25)\n",
    "q2mar = np.quantile(mar[mar > 0], 0.5)\n",
    "q3mar = np.quantile(mar[mar > 0], 0.75)\n",
    "\n",
    "q1abr = np.quantile(abr[abr > 0], 0.25)\n",
    "q2abr = np.quantile(abr[abr > 0], 0.5)\n",
    "q3abr = np.quantile(abr[abr > 0], 0.75)\n",
    "\n",
    "q1may = np.quantile(may[may > 0], 0.25)\n",
    "q2may = np.quantile(may[may > 0], 0.5)\n",
    "q3may = np.quantile(may[may > 0], 0.75)\n",
    "\n",
    "q1jun = np.quantile(jun[jun > 0], 0.25)\n",
    "q2jun = np.quantile(jun[jun > 0], 0.5)\n",
    "q3jun = np.quantile(jun[jun > 0], 0.75)\n",
    "\n",
    "q1jul = np.quantile(jul[jul > 0], 0.25)\n",
    "q2jul = np.quantile(jul[jul > 0], 0.5)\n",
    "q3jul = np.quantile(jul[jul > 0], 0.75)\n",
    "\n",
    "q1ago = np.quantile(ago[ago > 0], 0.25)\n",
    "q2ago = np.quantile(ago[ago > 0], 0.5)\n",
    "q3ago = np.quantile(ago[ago > 0], 0.75)\n",
    "\n",
    "q1sep = np.quantile(sep[sep > 0], 0.25)\n",
    "q2sep = np.quantile(sep[sep > 0], 0.5)\n",
    "q3sep = np.quantile(sep[sep > 0], 0.75)\n",
    "\n",
    "q1oct = np.quantile(oct[oct > 0], 0.25)\n",
    "q2oct = np.quantile(oct[oct > 0], 0.5)\n",
    "q3oct = np.quantile(oct[oct > 0], 0.75)\n",
    "\n",
    "q1nov = np.quantile(nov[nov > 0], 0.25)\n",
    "q2nov = np.quantile(nov[nov > 0], 0.5)\n",
    "q3nov = np.quantile(nov[nov > 0], 0.75)\n",
    "\n",
    "q1dic = np.quantile(dic[dic > 0], 0.25)\n",
    "q2dic = np.quantile(dic[dic > 0], 0.5)\n",
    "q3dic = np.quantile(dic[dic > 0], 0.75)"
   ]
  },
  {
   "cell_type": "code",
   "execution_count": 12,
   "id": "ac81a497-3f7e-4987-bde9-210f75b3b8e7",
   "metadata": {},
   "outputs": [],
   "source": [
    "#Separar en una variable los Q1, en otra los Q2 y en otra los Q3.\n",
    "q1f=np.array([q1ene,q1feb,q1mar,q1abr,q1may,q1jun,q1jul,q1ago,q1sep,q1oct,q1nov,q1dic])\n",
    "q2f=np.array([q2ene,q2feb,q2mar,q2abr,q2may,q2jun,q2jul,q2ago,q2sep,q2oct,q2nov,q2dic])\n",
    "q3f=np.array([q3ene,q3feb,q3mar,q3abr,q3may,q3jun,q3jul,q3ago,q3sep,q3oct,q3nov,q3dic])"
   ]
  },
  {
   "cell_type": "code",
   "execution_count": 13,
   "id": "c1253cbe-6e60-4408-963e-2ebd0d89ad58",
   "metadata": {},
   "outputs": [
    {
     "name": "stdout",
     "output_type": "stream",
     "text": [
      "603.949375\n",
      "984.7041666666664\n",
      "1501.4939583333332\n"
     ]
    }
   ],
   "source": [
    "#Obtener e imprimir los promedios de cada cuantil para su uso como precio representativo.\n",
    "q1prom=np.mean(q1f)\n",
    "q2prom=np.mean(q2f)\n",
    "q3prom=np.mean(q3f)\n",
    "\n",
    "print(q1prom)\n",
    "print(q2prom)\n",
    "print(q3prom)"
   ]
  }
 ],
 "metadata": {
  "kernelspec": {
   "display_name": "Python 3 (ipykernel)",
   "language": "python",
   "name": "python3"
  },
  "language_info": {
   "codemirror_mode": {
    "name": "ipython",
    "version": 3
   },
   "file_extension": ".py",
   "mimetype": "text/x-python",
   "name": "python",
   "nbconvert_exporter": "python",
   "pygments_lexer": "ipython3",
   "version": "3.11.6"
  }
 },
 "nbformat": 4,
 "nbformat_minor": 5
}
