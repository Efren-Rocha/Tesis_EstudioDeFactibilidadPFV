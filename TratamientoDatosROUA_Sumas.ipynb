{
 "cells": [
  {
   "cell_type": "code",
   "execution_count": 1,
   "id": "9a2b3fdd-7204-49d8-9e36-47c45a988a38",
   "metadata": {},
   "outputs": [],
   "source": [
    "#Importar librerias. \n",
    "import pandas as pd\n",
    "import matplotlib.pyplot as plt\n",
    "import numpy as np\n",
    "import seaborn as sns"
   ]
  },
  {
   "cell_type": "code",
   "execution_count": 2,
   "id": "0349c43e-75c7-49f9-8fac-eb1953845400",
   "metadata": {},
   "outputs": [
    {
     "data": {
      "text/html": [
       "<div>\n",
       "<style scoped>\n",
       "    .dataframe tbody tr th:only-of-type {\n",
       "        vertical-align: middle;\n",
       "    }\n",
       "\n",
       "    .dataframe tbody tr th {\n",
       "        vertical-align: top;\n",
       "    }\n",
       "\n",
       "    .dataframe thead th {\n",
       "        text-align: right;\n",
       "    }\n",
       "</style>\n",
       "<table border=\"1\" class=\"dataframe\">\n",
       "  <thead>\n",
       "    <tr style=\"text-align: right;\">\n",
       "      <th></th>\n",
       "      <th>Fecha</th>\n",
       "      <th>Radiación</th>\n",
       "    </tr>\n",
       "  </thead>\n",
       "  <tbody>\n",
       "    <tr>\n",
       "      <th>0</th>\n",
       "      <td>25/04/2014</td>\n",
       "      <td>257.700</td>\n",
       "    </tr>\n",
       "    <tr>\n",
       "      <th>1</th>\n",
       "      <td>25/04/2014</td>\n",
       "      <td>576.300</td>\n",
       "    </tr>\n",
       "    <tr>\n",
       "      <th>2</th>\n",
       "      <td>25/04/2014</td>\n",
       "      <td>312.100</td>\n",
       "    </tr>\n",
       "    <tr>\n",
       "      <th>3</th>\n",
       "      <td>30/06/2014</td>\n",
       "      <td>120.100</td>\n",
       "    </tr>\n",
       "    <tr>\n",
       "      <th>4</th>\n",
       "      <td>30/06/2014</td>\n",
       "      <td>96.200</td>\n",
       "    </tr>\n",
       "    <tr>\n",
       "      <th>...</th>\n",
       "      <td>...</td>\n",
       "      <td>...</td>\n",
       "    </tr>\n",
       "    <tr>\n",
       "      <th>51543</th>\n",
       "      <td>28/08/2024</td>\n",
       "      <td>664.932</td>\n",
       "    </tr>\n",
       "    <tr>\n",
       "      <th>51544</th>\n",
       "      <td>28/08/2024</td>\n",
       "      <td>388.378</td>\n",
       "    </tr>\n",
       "    <tr>\n",
       "      <th>51545</th>\n",
       "      <td>28/08/2024</td>\n",
       "      <td>146.314</td>\n",
       "    </tr>\n",
       "    <tr>\n",
       "      <th>51546</th>\n",
       "      <td>28/08/2024</td>\n",
       "      <td>5.053</td>\n",
       "    </tr>\n",
       "    <tr>\n",
       "      <th>51547</th>\n",
       "      <td>28/08/2024</td>\n",
       "      <td>1.479</td>\n",
       "    </tr>\n",
       "  </tbody>\n",
       "</table>\n",
       "<p>51548 rows × 2 columns</p>\n",
       "</div>"
      ],
      "text/plain": [
       "            Fecha  Radiación\n",
       "0      25/04/2014    257.700\n",
       "1      25/04/2014    576.300\n",
       "2      25/04/2014    312.100\n",
       "3      30/06/2014    120.100\n",
       "4      30/06/2014     96.200\n",
       "...           ...        ...\n",
       "51543  28/08/2024    664.932\n",
       "51544  28/08/2024    388.378\n",
       "51545  28/08/2024    146.314\n",
       "51546  28/08/2024      5.053\n",
       "51547  28/08/2024      1.479\n",
       "\n",
       "[51548 rows x 2 columns]"
      ]
     },
     "execution_count": 2,
     "metadata": {},
     "output_type": "execute_result"
    }
   ],
   "source": [
    "#Cargar datos.\n",
    "df=pd.read_csv(\"/home/jovyan/Tesis/DatosFINALES_CSV.csv\")\n",
    "df"
   ]
  },
  {
   "cell_type": "code",
   "execution_count": 3,
   "id": "638e8e0c-7ab0-4b68-a5ea-e5a321ec4352",
   "metadata": {},
   "outputs": [
    {
     "name": "stdout",
     "output_type": "stream",
     "text": [
      "           Fecha  Radiación\n",
      "0     2014-04-25    257.700\n",
      "1     2014-04-25    576.300\n",
      "2     2014-04-25    312.100\n",
      "3     2014-06-30    120.100\n",
      "4     2014-06-30     96.200\n",
      "...          ...        ...\n",
      "51543 2024-08-28    664.932\n",
      "51544 2024-08-28    388.378\n",
      "51545 2024-08-28    146.314\n",
      "51546 2024-08-28      5.053\n",
      "51547 2024-08-28      1.479\n",
      "\n",
      "[51548 rows x 2 columns]\n",
      "RangeIndex(start=0, stop=51548, step=1)\n"
     ]
    },
    {
     "name": "stderr",
     "output_type": "stream",
     "text": [
      "/tmp/ipykernel_157/1139190249.py:2: UserWarning: Parsing dates in %d/%m/%Y format when dayfirst=False (the default) was specified. Pass `dayfirst=True` or specify a format to silence this warning.\n",
      "  df['Fecha']=pd.to_datetime(df.Fecha)\n"
     ]
    }
   ],
   "source": [
    "#Transformar la columna \"Fecha\" a caracteres válidos para su lectura en pandas.\n",
    "df['Fecha']=pd.to_datetime(df.Fecha)\n",
    "print(df)\n",
    "print(df.index)"
   ]
  },
  {
   "cell_type": "code",
   "execution_count": 4,
   "id": "22d5c57a-dc97-48c8-b6bd-0c614fa79e66",
   "metadata": {
    "scrolled": true
   },
   "outputs": [],
   "source": [
    "#Sustituir el índice por la columna \"Fecha\" y posteriormente, borrar esa columna que ya no se ocupará.\n",
    "df.index=df.Fecha\n",
    "df=df.drop('Fecha',axis=1)"
   ]
  },
  {
   "cell_type": "code",
   "execution_count": 5,
   "id": "fa8041fd-e0fd-426f-9c23-7c1bdb1b61d3",
   "metadata": {},
   "outputs": [],
   "source": [
    "#Generar una variable que contenga la suma de los datos por día.\n",
    "df_res1=df[\"Radiación\"].resample('1D').sum()"
   ]
  },
  {
   "cell_type": "code",
   "execution_count": 6,
   "id": "2634e760-8ec3-438f-90b0-592464efd139",
   "metadata": {},
   "outputs": [
    {
     "name": "stderr",
     "output_type": "stream",
     "text": [
      "/tmp/ipykernel_157/2702340322.py:2: FutureWarning: 'M' is deprecated and will be removed in a future version, please use 'ME' instead.\n",
      "  df_res2=df_res1.resample('1M').sum()\n"
     ]
    }
   ],
   "source": [
    "#Generar una variable que contenga la suma de los datos por mes.\n",
    "df_res2=df_res1.resample('1M').sum()"
   ]
  },
  {
   "cell_type": "code",
   "execution_count": 7,
   "id": "4776b6e8-2efc-4f37-800e-f13055ae87ad",
   "metadata": {},
   "outputs": [],
   "source": [
    "#Generar slices para cada mes de todos los años. \n",
    "df_ene=df_res2.loc[df_res2.index.month==1]\n",
    "df_feb=df_res2.loc[df_res2.index.month==2]\n",
    "df_mar=df_res2.loc[df_res2.index.month==3]\n",
    "df_abr=df_res2.loc[df_res2.index.month==4]\n",
    "df_may=df_res2.loc[df_res2.index.month==5]\n",
    "df_jun=df_res2.loc[df_res2.index.month==6]\n",
    "df_jul=df_res2.loc[df_res2.index.month==7]\n",
    "df_ago=df_res2.loc[df_res2.index.month==8]\n",
    "df_sep=df_res2.loc[df_res2.index.month==9]\n",
    "df_oct=df_res2.loc[df_res2.index.month==10]\n",
    "df_nov=df_res2.loc[df_res2.index.month==11]\n",
    "df_dic=df_res2.loc[df_res2.index.month==12]"
   ]
  },
  {
   "cell_type": "code",
   "execution_count": 8,
   "id": "3158c849-2010-4ecf-b6f6-9f164c9d4614",
   "metadata": {},
   "outputs": [],
   "source": [
    "#Convertir los slices anteriores en arreglos de numpy. \n",
    "ene=np.array(df_ene)\n",
    "feb=np.array(df_feb)\n",
    "mar=np.array(df_mar)\n",
    "abr=np.array(df_abr)\n",
    "may=np.array(df_may)\n",
    "jun=np.array(df_jun)\n",
    "jul=np.array(df_jul)\n",
    "ago=np.array(df_ago)\n",
    "sep=np.array(df_sep)\n",
    "oct=np.array(df_oct)\n",
    "nov=np.array(df_nov)\n",
    "dic=np.array(df_dic)"
   ]
  },
  {
   "cell_type": "code",
   "execution_count": 9,
   "id": "3477ea7c-f0a0-43e3-8fa9-9af776dd9bf7",
   "metadata": {},
   "outputs": [
    {
     "name": "stdout",
     "output_type": "stream",
     "text": [
      "La suma de enero es: 1272520.812\n",
      "La suma de febrero es: 1535956.3059999999\n",
      "La suma de marzo es: 1817222.6879999998\n",
      "La suma de abril es: 1861726.4919999999\n",
      "La suma de mayo es: 1552856.6269999999\n",
      "La suma de junio es: 1375898.0\n",
      "La suma de julio es: 1428179.2200000002\n",
      "La suma de agosto es: 1517349.2789999999\n",
      "La suma de septiembre es: 1047492.003\n",
      "La suma de octubre es: 1025284.973\n",
      "La suma de noviembre es: 1178238.558\n",
      "La suma diciembre es: 1144791.541\n"
     ]
    }
   ],
   "source": [
    "#Imprimir los valores de los arreglos para su visualización previa a graficarlos. \n",
    "sumene=np.nansum(ene)\n",
    "print(\"La suma de enero es:\", sumene)\n",
    "sumfeb = np.sum(feb)\n",
    "print(\"La suma de febrero es:\", sumfeb)\n",
    "summar = np.sum(mar)\n",
    "print(\"La suma de marzo es:\", summar)\n",
    "sumabr = np.sum(abr)\n",
    "print(\"La suma de abril es:\", sumabr)\n",
    "summay = np.nansum(may)\n",
    "print(\"La suma de mayo es:\", summay)\n",
    "sumjun = np.nansum(jun)\n",
    "print(\"La suma de junio es:\", sumjun)\n",
    "sumjul = np.nansum(jul)\n",
    "print(\"La suma de julio es:\", sumjul)\n",
    "sumago = np.nansum(ago)\n",
    "print(\"La suma de agosto es:\", sumago)\n",
    "sumsep = np.nansum(sep)\n",
    "print(\"La suma de septiembre es:\", sumsep)\n",
    "sumoct = np.nansum(oct)\n",
    "print(\"La suma de octubre es:\", sumoct)\n",
    "sumnov = np.nansum(nov)\n",
    "print(\"La suma de noviembre es:\", sumnov)\n",
    "sumdic = np.nansum(dic)\n",
    "print(\"La suma diciembre es:\", sumdic)"
   ]
  },
  {
   "cell_type": "code",
   "execution_count": 10,
   "id": "f8e59b2c-6ac4-426e-b333-d580611f45a6",
   "metadata": {},
   "outputs": [],
   "source": [
    "#Juntar los valores de cada mes en una sola variable.\n",
    "sumas = np.array([sumene,sumfeb,summar,sumabr,summay,sumjun,sumjul,sumago,sumsep,sumoct,sumnov,sumdic])"
   ]
  },
  {
   "cell_type": "markdown",
   "id": "62e5183b-ef57-45fe-89e3-cbf0e3d1b040",
   "metadata": {},
   "source": [
    "Obtención de cuantiles $Q_1$, $Q_2$, $Q_3$"
   ]
  },
  {
   "cell_type": "code",
   "execution_count": 12,
   "id": "67009a34-5e8b-42dc-bc43-263a65ee3cc0",
   "metadata": {},
   "outputs": [],
   "source": [
    "#Generar slices para cada mes de todos los años. Se repite el paso pero ahora con la suma diaria, no con la suma mensual.\n",
    "df_eneC3=df_res1.loc[df_res1.index.month==1]\n",
    "df_febC3=df_res1.loc[df_res1.index.month==2]\n",
    "df_marC3=df_res1.loc[df_res1.index.month==3]\n",
    "df_abrC3=df_res1.loc[df_res1.index.month==4]\n",
    "df_mayC3=df_res1.loc[df_res1.index.month==5]\n",
    "df_junC3=df_res1.loc[df_res1.index.month==6]\n",
    "df_julC3=df_res1.loc[df_res1.index.month==7]\n",
    "df_agoC3=df_res1.loc[df_res1.index.month==8]\n",
    "df_sepC3=df_res1.loc[df_res1.index.month==9]\n",
    "df_octC3=df_res1.loc[df_res1.index.month==10]\n",
    "df_novC3=df_res1.loc[df_res1.index.month==11]\n",
    "df_dicC3=df_res1.loc[df_res1.index.month==12]"
   ]
  },
  {
   "cell_type": "code",
   "execution_count": 13,
   "id": "d241d7c6-b83c-4d16-a44a-c74b1a74a7a4",
   "metadata": {},
   "outputs": [],
   "source": [
    "#Convertir los slices anteriores en arreglos de numpy.\n",
    "ene2=np.array(df_eneC3)\n",
    "feb2=np.array(df_febC3)\n",
    "mar2=np.array(df_marC3)\n",
    "abr2=np.array(df_abrC3)\n",
    "may2=np.array(df_mayC3)\n",
    "jun2=np.array(df_junC3)\n",
    "jul2=np.array(df_julC3)\n",
    "ago2=np.array(df_agoC3)\n",
    "sep2=np.array(df_sepC3)\n",
    "oct2=np.array(df_octC3)\n",
    "nov2=np.array(df_novC3)\n",
    "dic2=np.array(df_dicC3)"
   ]
  },
  {
   "cell_type": "code",
   "execution_count": 14,
   "id": "4fc4e3ff-251f-494d-a99e-0e59eca0d993",
   "metadata": {},
   "outputs": [],
   "source": [
    "#Obtener los cuantiles de cada arreglo. \n",
    "q1ene2 = np.quantile(ene2[ene2 > 0], 0.25)\n",
    "q2ene2 = np.quantile(ene2[ene2 > 0], 0.5)\n",
    "q3ene2 = np.quantile(ene2[ene2 > 0], 0.75)\n",
    "\n",
    "q1feb2 = np.quantile(feb2[feb2 > 0], 0.25)\n",
    "q2feb2 = np.quantile(feb2[feb2 > 0], 0.5)\n",
    "q3feb2 = np.quantile(feb2[feb2 > 0], 0.75)\n",
    "\n",
    "q1mar2 = np.quantile(mar2[mar2 > 0], 0.25)\n",
    "q2mar2 = np.quantile(mar2[mar2 > 0], 0.5)\n",
    "q3mar2 = np.quantile(mar2[mar2 > 0], 0.75)\n",
    "\n",
    "q1abr2 = np.quantile(abr2[abr2 > 0], 0.25)\n",
    "q2abr2 = np.quantile(abr2[abr2 > 0], 0.5)\n",
    "q3abr2 = np.quantile(abr2[abr2 > 0], 0.75)\n",
    "\n",
    "q1may2 = np.quantile(may2[may2 > 0], 0.25)\n",
    "q2may2 = np.quantile(may2[may2 > 0], 0.5)\n",
    "q3may2 = np.quantile(may2[may2 > 0], 0.75)\n",
    "\n",
    "q1jun2 = np.quantile(jun2[jun2 > 0], 0.25)\n",
    "q2jun2 = np.quantile(jun2[jun2 > 0], 0.5)\n",
    "q3jun2 = np.quantile(jun2[jun2 > 0], 0.75)\n",
    "\n",
    "q1jul2 = np.quantile(jul2[jul2 > 0], 0.25)\n",
    "q2jul2 = np.quantile(jul2[jul2 > 0], 0.5)\n",
    "q3jul2 = np.quantile(jul2[jul2 > 0], 0.75)\n",
    "\n",
    "q1ago2 = np.quantile(ago2[ago2 > 0], 0.25)\n",
    "q2ago2 = np.quantile(ago2[ago2 > 0], 0.5)\n",
    "q3ago2 = np.quantile(ago2[ago2 > 0], 0.75)\n",
    "\n",
    "q1sep2 = np.quantile(sep2[sep2 > 0], 0.25)\n",
    "q2sep2 = np.quantile(sep2[sep2 > 0], 0.5)\n",
    "q3sep2 = np.quantile(sep2[sep2 > 0], 0.75)\n",
    "\n",
    "q1oct2 = np.quantile(oct2[oct2 > 0], 0.25)\n",
    "q2oct2 = np.quantile(oct2[oct2 > 0], 0.5)\n",
    "q3oct2 = np.quantile(oct2[oct2 > 0], 0.75)\n",
    "\n",
    "q1nov2 = np.quantile(nov2[nov2 > 0], 0.25)\n",
    "q2nov2 = np.quantile(nov2[nov2 > 0], 0.5)\n",
    "q3nov2 = np.quantile(nov2[nov2 > 0], 0.75)\n",
    "\n",
    "q1dic2 = np.quantile(dic2[dic2 > 0], 0.25)\n",
    "q2dic2 = np.quantile(dic2[dic2 > 0], 0.5)\n",
    "q3dic2 = np.quantile(dic2[dic2 > 0], 0.75)"
   ]
  },
  {
   "cell_type": "code",
   "execution_count": 15,
   "id": "36a2428e-72ea-4de3-9795-9506c92ed5d7",
   "metadata": {},
   "outputs": [],
   "source": [
    "#Almacenar los valores de Q1 de todos los meses en una variable, \n",
    "#los valores de Q2 en otra variable y los valores de Q3 en otra variable. \n",
    "q1f=np.array([q1ene2,q1feb2,q1mar2,q1abr2,q1may2,q1jun2,q1jul2,q1ago2,q1sep2,q1oct2,q1nov2,q1dic2])\n",
    "q2f=np.array([q2ene2,q2feb2,q2mar2,q2abr2,q2may2,q2jun2,q2jul2,q2ago2,q2sep2,q2oct2,q2nov2,q2dic2])\n",
    "q3f=np.array([q3ene2,q3feb2,q3mar2,q3abr2,q3may2,q3jun2,q3jul2,q3ago2,q3sep2,q3oct2,q3nov2,q3dic2])"
   ]
  },
  {
   "cell_type": "markdown",
   "id": "13c26015-cf20-4bef-b314-e2284049e346",
   "metadata": {},
   "source": [
    "Generar gráfico de caja y bigotes."
   ]
  },
  {
   "cell_type": "code",
   "execution_count": 36,
   "id": "2d132dd2-3953-410d-ad0f-bd140de33654",
   "metadata": {},
   "outputs": [
    {
     "data": {
      "image/png": "[encoded data removed]",
      "text/plain": [
       "<Figure size 1200x600 with 1 Axes>"
      ]
     },
     "metadata": {},
     "output_type": "display_data"
    }
   ],
   "source": [
    "#Generar una variable que contenga los valores de Q2 para su uso posterior. \n",
    "arr = [ene2,feb2,mar2,abr2,may2,jun2,jul2,ago2,sep2,oct2,nov2,dic2]\n",
    "\n",
    "#Configurar la paleta de colores del gráfico. \n",
    "color = [\"#FF6666\",\"#990000\",\"#4D0000\",\"#660000\",\"#800000\",\"#B20000\",\"#CC0000\",\"#E60000\",\"#FFCCCC\",\"#FF3333\",\"#FF0000\",\"#FF9999\"]\n",
    "\n",
    "#Crear la figura.\n",
    "plt.figure(figsize=(12, 6))\n",
    "\n",
    "#Representar la información mediante un gráfico de caja y bigotes.\n",
    "sns.boxplot(data=arr,showfliers=False, palette=color)\n",
    "\n",
    "#Configurar la vista del gráfico general.\n",
    "plt.xticks(ticks=[0, 1, 2, 3,4,5,6,7,8,9,10,11], labels= [\"Enero\",\"Febrero\",\"Marzo\",\"Abril\",\"Mayo\",\"Junio\",\"Julio\",\"Agosto\",\"Septiembre\",\"Octubre\",\"Noviembre\",\"Diciembre\"],)\n",
    "plt.xticks(rotation=45)\n",
    "plt.xlabel('Mes')\n",
    "plt.ylabel(r'$W/m^2$')\n",
    "plt.title('Distribución de irradiancia diaria de 2014 a 2024',fontsize = 14, fontweight = \"bold\")\n",
    "\n",
    "#plt.savefig(\"DistribucionIrradianciaDiaria.svg\", format=\"svg\")\n",
    "plt.show()"
   ]
  }
 ],
 "metadata": {
  "kernelspec": {
   "display_name": "Python 3 (ipykernel)",
   "language": "python",
   "name": "python3"
  },
  "language_info": {
   "codemirror_mode": {
    "name": "ipython",
    "version": 3
   },
   "file_extension": ".py",
   "mimetype": "text/x-python",
   "name": "python",
   "nbconvert_exporter": "python",
   "pygments_lexer": "ipython3",
   "version": "3.11.6"
  }
 },
 "nbformat": 4,
 "nbformat_minor": 5
}
