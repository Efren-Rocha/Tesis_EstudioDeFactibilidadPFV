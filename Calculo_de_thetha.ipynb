{
 "cells": [
  {
   "cell_type": "code",
   "execution_count": 1,
   "id": "6cbca064-2014-481e-b323-abc2fa64a647",
   "metadata": {},
   "outputs": [],
   "source": [
    "#Importar librerias. \n",
    "import numpy as np\n",
    "import pandas as pd"
   ]
  },
  {
   "cell_type": "code",
   "execution_count": 2,
   "id": "0dbb825a-14c6-4988-abc0-77695185490d",
   "metadata": {},
   "outputs": [],
   "source": [
    "#Establecer las variables para su uso posterior. \n",
    "latitude = 19.32361  #Latitud de la ENCIT.\n",
    "omega = 15*(12.36-12)  #Definir el valor de omega, mismo que se seleccionó con base en el promedio del medio día solar determinado por la NOAA en 2022.\n",
    "y = 0  # \"y\" es porque el panel esta orientado directamente al sur.\n",
    "days = np.arange(1, 365) #Generar una variable que represente los 365 días del año para su uso posterior. "
   ]
  },
  {
   "cell_type": "code",
   "execution_count": 3,
   "id": "6e62bb8d-a335-4358-b4ef-e527ed93a8ed",
   "metadata": {},
   "outputs": [],
   "source": [
    "# Cálculo de δ=23.45° sen(360/365 (284+n)). Se considera el dia 284 como el solsticio de verano en el hemisferio norte en tiempo solar.\n",
    "declination = 23.45 * np.sin(np.deg2rad(360 / 365 * (284 + days)))"
   ]
  },
  {
   "cell_type": "code",
   "execution_count": 4,
   "id": "f1c168a5-9580-449f-8c7a-224c5a20eada",
   "metadata": {},
   "outputs": [],
   "source": [
    "# Empezar la tabulación del mejor \"Tilt angle β \" o mejor Betta \n",
    "best_tilt_angle = None\n",
    "best_cos_theta = -1  # Establecer un valor que no sea posible alcanzar para asi eliminar números negativos."
   ]
  },
  {
   "cell_type": "markdown",
   "id": "b0920b52-c768-45a0-b842-0f1518e15072",
   "metadata": {},
   "source": [
    "Se define de que ángulo a que ángulo queremos el panel fotovoltaico para que su eficiencia sea mayor, en este caso es a 90° o en el rango de 0° a 90°.\n",
    "\n",
    "En estos calculos se consideraron dos formulas debido a la basta información que hay sobre diversas formulas de como sacar el ángulo óptimo.\n",
    "Esta parte del codigo se obtuvo directamente de internet y se ajustó al proyecto."
   ]
  },
  {
   "cell_type": "code",
   "execution_count": 5,
   "id": "a49c202f-e60e-42db-a5d6-86830df3f9d7",
   "metadata": {},
   "outputs": [],
   "source": [
    "# Cálculo de cos(θ) usando la Fórmula 1.\n",
    "for tilt_angle in range(0, 91):  \n",
    "    cos_theta_formula1 = (\n",
    "        np.cos(np.radians(tilt_angle)) * np.cos(np.radians(latitude)) * np.cos(np.radians(declination)) * np.cos(np.radians(omega)) +\n",
    "        np.sin(np.radians(declination)) * (np.sin(np.radians(latitude)) * np.cos(np.radians(tilt_angle)) -\n",
    "                                           np.cos(np.radians(latitude)) * np.sin(np.radians(tilt_angle)) * np.cos(np.radians(y)))\n",
    "    )\n",
    "\n",
    "    # Cálculo el promedio de cos(θ).\n",
    "    avg_cos_theta_formula1 = np.mean(cos_theta_formula1)\n",
    "    \n",
    "    if avg_cos_theta_formula1 > best_cos_theta:\n",
    "        best_cos_theta = avg_cos_theta_formula1\n",
    "        best_tilt_angle = tilt_angle\n",
    "\n",
    "# Cálculo de los valores finales con el mejor tilt_angle. \n",
    "final_declaration = 23.45 * np.sin(np.deg2rad(360 / 365 * (284 + days)))"
   ]
  },
  {
   "cell_type": "code",
   "execution_count": 6,
   "id": "7254d910-ee8c-4d75-8445-ca5e7f2bde7b",
   "metadata": {},
   "outputs": [],
   "source": [
    "# Cálculo de cos(θ) usando la Fórmula 2.\n",
    "# cos(𝜃) = 𝑠𝑒𝑛(𝛿)𝑠𝑒𝑛(𝜙) cos(𝛽) − 𝑠𝑒𝑛(𝛿)𝑐𝑜𝑠(𝜙)sen(𝛽)cos(𝛾) + 𝑐𝑜𝑠(𝛿)𝑐𝑜𝑠(𝜙)cos(𝛽)cos(𝛔) + 𝑐𝑜𝑠(𝛿)𝑠𝑒𝑛(𝜙)sen(𝛽)cos(𝛾)𝑐𝑜𝑠(𝛔) + 𝑐𝑜𝑠(𝛿)𝑠𝑒𝑛(𝛽)sen(𝛾)𝑠𝑒𝑛(𝛔)\n",
    "cos_theta_formula2 = (\n",
    "    np.sin(np.radians(final_declaration)) * np.sin(np.radians(latitude)) * np.cos(np.radians(best_tilt_angle)) -\n",
    "    np.sin(np.radians(final_declaration)) * np.cos(np.radians(latitude)) * np.sin(np.radians(best_tilt_angle)) * np.cos(np.radians(y)) +\n",
    "    np.cos(np.radians(final_declaration)) * np.cos(np.radians(latitude)) * np.cos(np.radians(best_tilt_angle)) * np.cos(np.radians(omega)) +\n",
    "    np.cos(np.radians(final_declaration)) * np.sin(np.radians(latitude)) * np.sin(np.radians(best_tilt_angle)) * np.cos(np.radians(y)) * np.cos(np.radians(omega)) +\n",
    "    np.cos(np.radians(final_declaration)) * np.sin(np.radians(best_tilt_angle)) * np.sin(np.radians(y)) * np.sin(np.radians(omega))\n",
    ")"
   ]
  },
  {
   "cell_type": "code",
   "execution_count": 7,
   "id": "ed10bcdc-5c0b-4658-8812-056655f01798",
   "metadata": {},
   "outputs": [
    {
     "name": "stdout",
     "output_type": "stream",
     "text": [
      "       h  Tilt angle β  δ (declinación)  cos(θ) formula 1  cos(θ) formula 2  \\\n",
      "0      1             0       -23.011637          0.368896          0.735362   \n",
      "1      2             0       -22.930544          0.367666          0.736312   \n",
      "2      3             0       -22.842656          0.366332          0.737340   \n",
      "3      4             0       -22.747999          0.364895          0.738446   \n",
      "4      5             0       -22.646602          0.363354          0.739628   \n",
      "..   ...           ...              ...               ...               ...   \n",
      "359  360             0       -23.354300          0.374084          0.731331   \n",
      "360  361             0       -23.314410          0.373480          0.731802   \n",
      "361  362             0       -23.267611          0.372772          0.732353   \n",
      "362  363             0       -23.213917          0.371960          0.732986   \n",
      "363  364             0       -23.153344          0.371043          0.733698   \n",
      "\n",
      "     A  Latitude φ    cos(δ)    sin(δ)  cos(β)  sin(β)    cos(ω)    sin(ω)  \\\n",
      "0    0    19.32361  0.920425 -0.390918     1.0     0.0  0.995562  0.094108   \n",
      "1    0    19.32361  0.920978 -0.389615     1.0     0.0  0.995562  0.094108   \n",
      "2    0    19.32361  0.921574 -0.388202     1.0     0.0  0.995562  0.094108   \n",
      "3    0    19.32361  0.922214 -0.386679     1.0     0.0  0.995562  0.094108   \n",
      "4    0    19.32361  0.922897 -0.385046     1.0     0.0  0.995562  0.094108   \n",
      "..  ..         ...       ...       ...     ...     ...       ...       ...   \n",
      "359  0    19.32361  0.918071 -0.396416     1.0     0.0  0.995562  0.094108   \n",
      "360  0    19.32361  0.918347 -0.395776     1.0     0.0  0.995562  0.094108   \n",
      "361  0    19.32361  0.918670 -0.395026     1.0     0.0  0.995562  0.094108   \n",
      "362  0    19.32361  0.919040 -0.394165     1.0     0.0  0.995562  0.094108   \n",
      "363  0    19.32361  0.919456 -0.393193     1.0     0.0  0.995562  0.094108   \n",
      "\n",
      "     cos(y)  sin(y)    cos(φ)    sin(φ)   Zenital  cos(θ) formula 2 / Zenital  \n",
      "0       1.0     0.0  0.943665  0.330903  0.735362                         1.0  \n",
      "1       1.0     0.0  0.943665  0.330903  0.736312                         1.0  \n",
      "2       1.0     0.0  0.943665  0.330903  0.737340                         1.0  \n",
      "3       1.0     0.0  0.943665  0.330903  0.738446                         1.0  \n",
      "4       1.0     0.0  0.943665  0.330903  0.739628                         1.0  \n",
      "..      ...     ...       ...       ...       ...                         ...  \n",
      "359     1.0     0.0  0.943665  0.330903  0.731331                         1.0  \n",
      "360     1.0     0.0  0.943665  0.330903  0.731802                         1.0  \n",
      "361     1.0     0.0  0.943665  0.330903  0.732353                         1.0  \n",
      "362     1.0     0.0  0.943665  0.330903  0.732986                         1.0  \n",
      "363     1.0     0.0  0.943665  0.330903  0.733698                         1.0  \n",
      "\n",
      "[364 rows x 19 columns]\n"
     ]
    }
   ],
   "source": [
    "# Crear columnas para su inclusión posterior en un dataframe.\n",
    "data = {\n",
    "    'h': days,\n",
    "    'Tilt angle β': [best_tilt_angle] * len(days),\n",
    "    'δ (declinación)': final_declaration,\n",
    "    'cos(θ) formula 1': cos_theta_formula1,\n",
    "    'cos(θ) formula 2': cos_theta_formula2,\n",
    "    'A': [(12 - 12) * 15] * len(days),  # Consideramos A como 0 \n",
    "    'Latitude φ': [latitude] * len(days),\n",
    "    'cos(δ)': np.cos(np.radians(final_declaration)),\n",
    "    'sin(δ)': np.sin(np.radians(final_declaration)),\n",
    "    'cos(β)': np.cos(np.radians(best_tilt_angle)),\n",
    "    'sin(β)': np.sin(np.radians(best_tilt_angle)),\n",
    "    'cos(ω)': np.cos(np.radians(omega)),\n",
    "    'sin(ω)': np.sin(np.radians(omega)),\n",
    "    'cos(y)': np.cos(np.radians(y)),\n",
    "    'sin(y)': np.sin(np.radians(y)),\n",
    "    'cos(φ)': np.cos(np.radians(latitude)),\n",
    "    'sin(φ)': np.sin(np.radians(latitude)),\n",
    "    'Zenital': np.sin(np.radians(final_declaration)) * np.sin(np.radians(latitude)) + np.cos(np.radians(final_declaration)) * np.cos(np.radians(latitude)) * np.cos(np.radians(omega))\n",
    "    \n",
    "}\n",
    "data['cos(θ) formula 2 / Zenital'] = np.divide(data['cos(θ) formula 2'], data['Zenital'], where=data['Zenital'] != 0)\n",
    "df = pd.DataFrame(data)\n",
    "\n",
    "print(df)\n",
    "#df.to_excel('Tetha.xlsx', index=False)"
   ]
  }
 ],
 "metadata": {
  "kernelspec": {
   "display_name": "Python 3 (ipykernel)",
   "language": "python",
   "name": "python3"
  },
  "language_info": {
   "codemirror_mode": {
    "name": "ipython",
    "version": 3
   },
   "file_extension": ".py",
   "mimetype": "text/x-python",
   "name": "python",
   "nbconvert_exporter": "python",
   "pygments_lexer": "ipython3",
   "version": "3.11.6"
  }
 },
 "nbformat": 4,
 "nbformat_minor": 5
}
